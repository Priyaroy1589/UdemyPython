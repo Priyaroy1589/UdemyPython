{
 "cells": [
  {
   "cell_type": "code",
   "execution_count": 54,
   "id": "79ec722d-9333-4d91-b95e-0a13b910e95b",
   "metadata": {
    "tags": []
   },
   "outputs": [],
   "source": [
    "var = 'Priya'"
   ]
  },
  {
   "cell_type": "code",
   "execution_count": 55,
   "id": "3033f19c-0668-47e1-9be7-feacf3e7043d",
   "metadata": {
    "tags": []
   },
   "outputs": [
    {
     "data": {
      "text/plain": [
       "'PriyaPriyaPriyaPriyaPriyaPriya'"
      ]
     },
     "execution_count": 55,
     "metadata": {},
     "output_type": "execute_result"
    }
   ],
   "source": [
    "'PriyaPriyaPriyaPriyaPriyaPriya'"
   ]
  },
  {
   "cell_type": "code",
   "execution_count": 9,
   "id": "72776f01-5d6a-4b1d-9ebf-f68b46547117",
   "metadata": {},
   "outputs": [
    {
     "name": "stdout",
     "output_type": "stream",
     "text": [
      "PriyaPriyaPriyaPriyaPriyaPriya\n"
     ]
    }
   ],
   "source": [
    "print(var*6)"
   ]
  },
  {
   "cell_type": "code",
   "execution_count": 5,
   "id": "d176eb32-f193-44e9-a663-a90ed12b9d28",
   "metadata": {},
   "outputs": [],
   "source": [
    "var2 = 'z'"
   ]
  },
  {
   "cell_type": "code",
   "execution_count": 6,
   "id": "92d8f044-c6f3-4b55-89ec-698d90b6ca2e",
   "metadata": {},
   "outputs": [
    {
     "data": {
      "text/plain": [
       "'zzzzzzzzz'"
      ]
     },
     "execution_count": 6,
     "metadata": {},
     "output_type": "execute_result"
    }
   ],
   "source": [
    "'zzzzzzzzz'"
   ]
  },
  {
   "cell_type": "code",
   "execution_count": 26,
   "id": "df17773c-b298-4a87-9187-fd8ccccc8f88",
   "metadata": {},
   "outputs": [],
   "source": [
    "def to_upper(val):\n",
    "    new_val = val.upper()\n",
    "    return new_val"
   ]
  },
  {
   "cell_type": "code",
   "execution_count": 27,
   "id": "55eba013-b718-4ba8-95fa-e62b4e08c1e2",
   "metadata": {},
   "outputs": [
    {
     "data": {
      "text/plain": [
       "'PRIYA'"
      ]
     },
     "execution_count": 27,
     "metadata": {},
     "output_type": "execute_result"
    }
   ],
   "source": [
    "to_upper('priya')"
   ]
  },
  {
   "cell_type": "code",
   "execution_count": 39,
   "id": "e795ebbe-6948-4fdc-90ad-47560e90f384",
   "metadata": {},
   "outputs": [],
   "source": [
    "my_list = [2,1,[1,2]]"
   ]
  },
  {
   "cell_type": "code",
   "execution_count": 45,
   "id": "91755198-f622-447b-aff1-74b547ed41b5",
   "metadata": {},
   "outputs": [
    {
     "data": {
      "text/plain": [
       "2"
      ]
     },
     "execution_count": 45,
     "metadata": {},
     "output_type": "execute_result"
    }
   ],
   "source": [
    "my_list[2][1]"
   ]
  },
  {
   "cell_type": "code",
   "execution_count": 46,
   "id": "f3e1b6f7-d6fe-4201-9633-a68554e597e0",
   "metadata": {},
   "outputs": [],
   "source": [
    "my_name = \"Priya\""
   ]
  },
  {
   "cell_type": "code",
   "execution_count": 48,
   "id": "3807acef-9c57-429d-9ed3-1cab54433746",
   "metadata": {},
   "outputs": [
    {
     "name": "stdout",
     "output_type": "stream",
     "text": [
      "My name is Priya\n"
     ]
    }
   ],
   "source": [
    "print(\"My name is \" + my_name)"
   ]
  },
  {
   "cell_type": "code",
   "execution_count": 50,
   "id": "1119867e-1c18-4c16-8963-8dc5bae748d9",
   "metadata": {},
   "outputs": [
    {
     "name": "stdout",
     "output_type": "stream",
     "text": [
      "This place is ligit\n"
     ]
    }
   ],
   "source": [
    "print(\"This {} {} {}\".format('place', 'is', 'ligit'))"
   ]
  },
  {
   "cell_type": "code",
   "execution_count": 51,
   "id": "7ac08d81-016e-4dec-b7f7-f88156217958",
   "metadata": {},
   "outputs": [
    {
     "name": "stdout",
     "output_type": "stream",
     "text": [
      "Gullu is clever chant chutad\n"
     ]
    }
   ],
   "source": [
    "print(\"Gullu is {} {} {}\".format('clever', 'chant', 'chutad'))"
   ]
  },
  {
   "cell_type": "code",
   "execution_count": 52,
   "id": "e18aa84b-dd34-4da5-8995-2c51121e993c",
   "metadata": {},
   "outputs": [
    {
     "name": "stdout",
     "output_type": "stream",
     "text": [
      "Gullu is chutad clever chant\n"
     ]
    }
   ],
   "source": [
    "print(\"Gullu is {2} {0} {1}\".format('clever', 'chant', 'chutad'))"
   ]
  },
  {
   "cell_type": "code",
   "execution_count": 53,
   "id": "0dda4e61-3279-49cb-abfe-463e362dcb35",
   "metadata": {},
   "outputs": [
    {
     "name": "stdout",
     "output_type": "stream",
     "text": [
      "Gullu is chant clever chutad\n"
     ]
    }
   ],
   "source": [
    "print(\"Gullu is {c2} {c1} {c3}\".format(c1='clever', c2='chant', c3='chutad'))"
   ]
  },
  {
   "cell_type": "code",
   "execution_count": null,
   "id": "d47a07f8-2a9e-41b9-adb3-d834f6c9362a",
   "metadata": {},
   "outputs": [],
   "source": []
  }
 ],
 "metadata": {
  "kernelspec": {
   "display_name": "Python 3",
   "language": "python",
   "name": "python3"
  },
  "language_info": {
   "codemirror_mode": {
    "name": "ipython",
    "version": 3
   },
   "file_extension": ".py",
   "mimetype": "text/x-python",
   "name": "python",
   "nbconvert_exporter": "python",
   "pygments_lexer": "ipython3",
   "version": "3.8.8"
  }
 },
 "nbformat": 4,
 "nbformat_minor": 5
}
